{
 "cells": [
  {
   "cell_type": "markdown",
   "id": "69d305e9",
   "metadata": {
    "deletable": false,
    "editable": false,
    "nbgrader": {
     "cell_type": "markdown",
     "checksum": "e532a7b0bbaf722cc8e5496bfde02472",
     "grade": false,
     "grade_id": "cell-24e3b5e89f5669c5",
     "locked": true,
     "schema_version": 3,
     "solution": false,
     "task": false
    }
   },
   "source": [
    "---\n",
    "\n",
    "_You are currently looking at **version 1.0** of this notebook. To download notebooks and datafiles, as well as get help on Jupyter notebooks in the Coursera platform, visit the Jupyter Notebook FAQ course resource._\n",
    "\n",
    "---"
   ]
  },
  {
   "cell_type": "markdown",
   "id": "0be71ec1",
   "metadata": {
    "deletable": false,
    "editable": false,
    "nbgrader": {
     "cell_type": "markdown",
     "checksum": "2ddd869ec642dbe6404672b445fd4dd1",
     "grade": false,
     "grade_id": "cell-6757b7ecd16ad875",
     "locked": true,
     "schema_version": 3,
     "solution": false,
     "task": false
    }
   },
   "source": [
    "# Assignment 4 - Predicting and understanding viewer engagement with educational videos \n",
    "\n",
    "With the accelerating popularity of online educational experiences, the role of online lectures and other educational video continues to increase in scope and importance. Open access educational repositories such as <a href=\"http://videolectures.net/\">videolectures.net</a>, as well as Massive Open Online Courses (MOOCs) on platforms like Coursera, have made access to many thousands of lectures and tutorials an accessible option for millions of people around the world. Yet this impressive volume of content has also led to a challenge in how to find, filter, and match these videos with learners. This assignment gives you an example of how machine learning can be used to address part of that challenge.\n",
    "\n",
    "## About the prediction problem\n",
    "\n",
    "One critical property of a video is engagement: how interesting or \"engaging\" it is for viewers, so that they decide to keep watching. Engagement is critical for learning, whether the instruction is coming from a video or any other source. There are many ways to define engagement with video, but one common approach is to estimate it by measuring how much of the video a user watches. If the video is not interesting and does not engage a viewer, they will typically abandon it quickly, e.g. only watch 5 or 10% of the total. \n",
    "\n",
    "A first step towards providing the best-matching educational content is to understand which features of educational material make it engaging for learners in general. This is where predictive modeling can be applied, via supervised machine learning. For this assignment, your task is to predict how engaging an educational video is likely to be for viewers, based on a set of features extracted from the video's transcript, audio track, hosting site, and other sources.\n",
    "\n",
    "We chose this prediction problem for several reasons:\n",
    "\n",
    "* It combines a variety of features derived from a rich set of resources connected to the original data;\n",
    "* The manageable dataset size means the dataset and supervised models for it can be easily explored on a wide variety of computing platforms;\n",
    "* Predicting popularity or engagement for a media item, especially combined with understanding which features contribute to its success with viewers, is a fun problem but also a practical representative application of machine learning in a number of business and educational sectors.\n",
    "\n",
    "\n",
    "## About the dataset\n",
    "\n",
    "We extracted training and test datasets of educational video features from the VLE Dataset put together by researcher Sahan Bulathwela at University College London. \n",
    "\n",
    "We provide you with two data files for use in training and validating your models: train.csv and test.csv. Each row in these two files corresponds to a single educational video, and includes information about diverse properties of the video content as described further below. The target variable is `engagement` which was defined as True if the median percentage of the video watched across all viewers was at least 30%, and False otherwise.\n",
    "\n",
    "Note: Any extra variables that may be included in the training set are simply for your interest if you want an additional source of data for visualization, or to enable unsupervised and semi-supervised approaches. However, they are not included in the test set and thus cannot be used for prediction. **Only the data already included in your Coursera directory can be used for training the model for this assignment.**\n",
    "\n",
    "For this final assignment, you will bring together what you've learned across all four weeks of this course, by exploring different prediction models for this new dataset. In addition, we encourage you to apply what you've learned about model selection to do hyperparameter tuning using training/validation splits of the training data, to optimize the model and further increase its performance. In addition to a basic evaluation of model accuracy, we've also provided a utility function to visualize which features are most and least contributing to the overall model performance.\n",
    "\n",
    "**File descriptions** \n",
    "    assets/train.csv - the training set (Use only this data for training your model!)\n",
    "    assets/test.csv - the test set\n",
    "<br>\n",
    "\n",
    "**Data fields**\n",
    "\n",
    "train.csv & test.csv:\n",
    "\n",
    "    title_word_count - the number of words in the title of the video.\n",
    "    \n",
    "    document_entropy - a score indicating how varied the topics are covered in the video, based on the transcript. Videos with smaller entropy scores will tend to be more cohesive and more focused on a single topic.\n",
    "    \n",
    "    freshness - The number of days elapsed between 01/01/1970 and the lecture published date. Videos that are more recent will have higher freshness values.\n",
    "    \n",
    "    easiness - A text difficulty measure applied to the transcript. A lower score indicates more complex language used by the presenter.\n",
    "    \n",
    "    fraction_stopword_presence - A stopword is a very common word like 'the' or 'and'. This feature computes the fraction of all words that are stopwords in the video lecture transcript.\n",
    "    \n",
    "    speaker_speed - The average speaking rate in words per minute of the presenter in the video.\n",
    "    \n",
    "    silent_period_rate - The fraction of time in the lecture video that is silence (no speaking).\n",
    "    \n",
    "train.csv only:\n",
    "    \n",
    "    engagement - Target label for training. True if learners watched a substantial portion of the video (see description), or False otherwise.\n",
    "    \n",
    "\n",
    "## Evaluation\n",
    "\n",
    "Your predictions will be given as the probability that the corresponding video will be engaging to learners.\n",
    "\n",
    "The evaluation metric for this assignment is the Area Under the ROC Curve (AUC). \n",
    "\n",
    "Your grade will be based on the AUC score computed for your classifier. A model with an AUC (area under ROC curve) of at least 0.8 passes this assignment, and over 0.85 will receive full points.\n",
    "___\n",
    "\n",
    "For this assignment, create a function that trains a model to predict significant learner engagement with a video using `asset/train.csv`. Using this model, return a Pandas Series object of length 2309 with the data being the probability that each corresponding video from `readonly/test.csv` will be engaging (according to a model learned from the 'engagement' label in the training set), and the video index being in the `id` field.\n",
    "\n",
    "Example:\n",
    "\n",
    "    id\n",
    "       9240    0.401958\n",
    "       9241    0.105928\n",
    "       9242    0.018572\n",
    "                 ...\n",
    "       9243    0.208567\n",
    "       9244    0.818759\n",
    "       9245    0.018528\n",
    "             ...\n",
    "       Name: engagement, dtype: float32\n",
    "       \n",
    "### Hints\n",
    "\n",
    "* Make sure your code is working before submitting it to the autograder.\n",
    "\n",
    "* Print out and check your result to see whether there is anything weird (e.g., all probabilities are the same).\n",
    "\n",
    "* Generally the total runtime should be less than 10 mins. \n",
    "\n",
    "* Try to avoid global variables. If you have other functions besides engagement_model, you should move those functions inside the scope of engagement_model.\n",
    "\n",
    "* Be sure to first check the pinned threads in Week 4's discussion forum if you run into a problem you can't figure out.\n",
    "\n",
    "### Extensions\n",
    "\n",
    "* If this prediction task motivates you to explore further, you can find more details here on the original VLE dataset and others related to video engagement: https://github.com/sahanbull/VLE-Dataset\n",
    "\n"
   ]
  },
  {
   "cell_type": "code",
   "execution_count": 1,
   "id": "1218318f",
   "metadata": {
    "deletable": false,
    "editable": false,
    "nbgrader": {
     "cell_type": "code",
     "checksum": "b7dc38d94db79fb7160854a629c825a8",
     "grade": false,
     "grade_id": "cell-2c0cf4e0ffe5f447",
     "locked": true,
     "schema_version": 3,
     "solution": false,
     "task": false
    }
   },
   "outputs": [],
   "source": [
    "import warnings\n",
    "warnings.filterwarnings(\"ignore\")\n",
    "\n",
    "import os\n",
    "import pandas as pd\n",
    "import numpy as np\n",
    "import matplotlib.pyplot as plt\n",
    "\n",
    "np.random.seed(0)   # Do not change this value: required to be compatible with solutions generated by the autograder."
   ]
  },
  {
   "cell_type": "code",
   "execution_count": 2,
   "id": "bda6fc3d-b318-4c9c-8d46-c0646b5ded39",
   "metadata": {},
   "outputs": [
    {
     "name": "stdout",
     "output_type": "stream",
     "text": [
      "[1.78842755e-04 6.41225530e-02 6.00000000e-02 ... 1.55928294e-02\n",
      " 9.60000000e-01 9.90990991e-05]\n"
     ]
    }
   ],
   "source": [
    "from sklearn.model_selection import train_test_split\n",
    "from sklearn.metrics import accuracy_score, recall_score, precision_score\n",
    "from sklearn.svm import SVC\n",
    "\n",
    "rec = None\n",
    "\n",
    "# YOUR CODE HERE\n",
    "# import data\n",
    "df = pd.read_csv('assets/train.csv')\n",
    "test = pd.read_csv('assets/test.csv')\n",
    "#defining X and y for results on train test\n",
    "X = df.iloc[:,:-1]\n",
    "y = df.iloc[:,-1]\n",
    "\n",
    "\n",
    "#for this quesiton, I am using RandomForestRegressor for finding out the prediciton values\n",
    "from sklearn.ensemble import RandomForestClassifier\n",
    "from sklearn.ensemble import RandomForestRegressor\n",
    "\n",
    "#Here, I am trying out to find the features importances of each feature and select only top 6 features \n",
    "clf = RandomForestRegressor(max_depth = 10, n_estimators = 40).fit(X,y)\n",
    "\n",
    "s = pd.Series(clf.feature_importances_, index = X.columns)\n",
    "s.sort_values(ascending  = False,inplace = True)\n",
    "\n",
    "features = list(s.index[:6])\n",
    "X = X[features]\n",
    "\n",
    "from sklearn.model_selection import GridSearchCV\n",
    "from sklearn.metrics import roc_auc_score\n",
    "\n",
    "#Now, I am splitting the data and using GridSearchCV to to maximize the \n",
    "\n",
    "X_train, X_test, y_train, y_test = train_test_split(X, y, random_state = 0)\n",
    "\n",
    "grid_values = {'max_depth':[20], 'n_estimators':[50,100] }\n",
    "\n",
    "clf = GridSearchCV(RandomForestRegressor(),param_grid = grid_values,scoring = 'roc_auc')\n",
    "\n",
    "clf.fit(X_train, y_train.values.reshape(-1,1))\n",
    "\n",
    "#I selected the best parameters from the gridsearcgcv and trainded the Randomforestregressor using those parameters\n",
    "values = clf.best_params_\n",
    "test = test[features]\n",
    "final_clf = RandomForestRegressor(max_depth = values['max_depth'],n_estimators = values['n_estimators'])\n",
    "final_clf.fit(X, y)\n",
    "y_scores = final_clf.predict(test)\n",
    "\n",
    "#finally, I made a series with values of y_predicted and ticket_id as index values\n",
    "ans = pd.Series(y_scores , index  = test.index.values)\n",
    "print(y_scores)\n"
   ]
  },
  {
   "cell_type": "code",
   "execution_count": 7,
   "id": "f866f65e",
   "metadata": {},
   "outputs": [
    {
     "name": "stdout",
     "output_type": "stream",
     "text": [
      "2309\n"
     ]
    }
   ],
   "source": [
    "print(len(y_test[0:len(y_scores)]))"
   ]
  },
  {
   "cell_type": "code",
   "execution_count": 11,
   "id": "42118464",
   "metadata": {
    "deletable": false,
    "editable": false,
    "nbgrader": {
     "cell_type": "code",
     "checksum": "26a7c364781ea24c8e46c623e73c1d4a",
     "grade": true,
     "grade_id": "cell-df6ac3eec5bb54f7",
     "locked": true,
     "points": 1,
     "schema_version": 3,
     "solution": false,
     "task": false
    }
   },
   "outputs": [
    {
     "data": {
      "image/png": "[encoded data removed]",
      "image/svg+xml": "<?xml version=\"1.0\" encoding=\"utf-8\" standalone=\"no\"?>\n<!DOCTYPE svg PUBLIC \"-//W3C//DTD SVG 1.1//EN\"\n  \"http://www.w3.org/Graphics/SVG/1.1/DTD/svg11.dtd\">\n<svg xmlns:xlink=\"http://www.w3.org/1999/xlink\" width=\"394.423125pt\" height=\"297.190125pt\" viewBox=\"0 0 394.423125 297.190125\" xmlns=\"http://www.w3.org/2000/svg\" version=\"1.1\">\n <metadata>\n  <rdf:RDF xmlns:dc=\"http://purl.org/dc/elements/1.1/\" xmlns:cc=\"http://creativecommons.org/ns#\" xmlns:rdf=\"http://www.w3.org/1999/02/22-rdf-syntax-ns#\">\n   <cc:Work>\n    <dc:type rdf:resource=\"http://purl.org/dc/dcmitype/StillImage\"/>\n    <dc:date>2023-01-28T20:19:04.215356</dc:date>\n    <dc:format>image/svg+xml</dc:format>\n    <dc:creator>\n     <cc:Agent>\n      <dc:title>Matplotlib v3.6.3, https://matplotlib.org/</dc:title>\n     </cc:Agent>\n    </dc:creator>\n   </cc:Work>\n  </rdf:RDF>\n </metadata>\n <defs>\n  <style type=\"text/css\">*{stroke-linejoin: round; stroke-linecap: butt}</style>\n </defs>\n <g id=\"figure_1\">\n  <g id=\"patch_1\">\n   <path d=\"M 0 297.190125 \nL 394.423125 297.190125 \nL 394.423125 0 \nL 0 0 \nz\n\"/>\n  </g>\n  <g id=\"axes_1\">\n   <g id=\"patch_2\">\n    <path d=\"M 30.103125 273.312 \nL 387.223125 273.312 \nL 387.223125 7.2 \nL 30.103125 7.2 \nz\n\"/>\n   </g>\n   <g id=\"matplotlib.axis_1\">\n    <g id=\"xtick_1\">\n     <g id=\"line2d_1\">\n      <defs>\n       <path id=\"m50ed4221d6\" d=\"M 0 0 \nL 0 3.5 \n\" style=\"stroke: #ffffff; stroke-width: 0.8\"/>\n      </defs>\n      <g>\n       <use xlink:href=\"#m50ed4221d6\" x=\"46.335852\" y=\"273.312\" style=\"fill: #ffffff; stroke: #ffffff; stroke-width: 0.8\"/>\n      </g>\n     </g>\n     <g id=\"text_1\">\n      <!-- 0.0 -->\n      <g style=\"fill: #ffffff\" transform=\"translate(38.38429 287.910437) scale(0.1 -0.1)\">\n       <defs>\n        <path id=\"DejaVuSans-30\" d=\"M 2034 4250 \nQ 1547 4250 1301 3770 \nQ 1056 3291 1056 2328 \nQ 1056 1369 1301 889 \nQ 1547 409 2034 409 \nQ 2525 409 2770 889 \nQ 3016 1369 3016 2328 \nQ 3016 3291 2770 3770 \nQ 2525 4250 2034 4250 \nz\nM 2034 4750 \nQ 2819 4750 3233 4129 \nQ 3647 3509 3647 2328 \nQ 3647 1150 3233 529 \nQ 2819 -91 2034 -91 \nQ 1250 -91 836 529 \nQ 422 1150 422 2328 \nQ 422 3509 836 4129 \nQ 1250 4750 2034 4750 \nz\n\" transform=\"scale(0.015625)\"/>\n        <path id=\"DejaVuSans-2e\" d=\"M 684 794 \nL 1344 794 \nL 1344 0 \nL 684 0 \nL 684 794 \nz\n\" transform=\"scale(0.015625)\"/>\n       </defs>\n       <use xlink:href=\"#DejaVuSans-30\"/>\n       <use xlink:href=\"#DejaVuSans-2e\" x=\"63.623047\"/>\n       <use xlink:href=\"#DejaVuSans-30\" x=\"95.410156\"/>\n      </g>\n     </g>\n    </g>\n    <g id=\"xtick_2\">\n     <g id=\"line2d_2\">\n      <g>\n       <use xlink:href=\"#m50ed4221d6\" x=\"111.266761\" y=\"273.312\" style=\"fill: #ffffff; stroke: #ffffff; stroke-width: 0.8\"/>\n      </g>\n     </g>\n     <g id=\"text_2\">\n      <!-- 0.2 -->\n      <g style=\"fill: #ffffff\" transform=\"translate(103.315199 287.910437) scale(0.1 -0.1)\">\n       <defs>\n        <path id=\"DejaVuSans-32\" d=\"M 1228 531 \nL 3431 531 \nL 3431 0 \nL 469 0 \nL 469 531 \nQ 828 903 1448 1529 \nQ 2069 2156 2228 2338 \nQ 2531 2678 2651 2914 \nQ 2772 3150 2772 3378 \nQ 2772 3750 2511 3984 \nQ 2250 4219 1831 4219 \nQ 1534 4219 1204 4116 \nQ 875 4013 500 3803 \nL 500 4441 \nQ 881 4594 1212 4672 \nQ 1544 4750 1819 4750 \nQ 2544 4750 2975 4387 \nQ 3406 4025 3406 3419 \nQ 3406 3131 3298 2873 \nQ 3191 2616 2906 2266 \nQ 2828 2175 2409 1742 \nQ 1991 1309 1228 531 \nz\n\" transform=\"scale(0.015625)\"/>\n       </defs>\n       <use xlink:href=\"#DejaVuSans-30\"/>\n       <use xlink:href=\"#DejaVuSans-2e\" x=\"63.623047\"/>\n       <use xlink:href=\"#DejaVuSans-32\" x=\"95.410156\"/>\n      </g>\n     </g>\n    </g>\n    <g id=\"xtick_3\">\n     <g id=\"line2d_3\">\n      <g>\n       <use xlink:href=\"#m50ed4221d6\" x=\"176.19767\" y=\"273.312\" style=\"fill: #ffffff; stroke: #ffffff; stroke-width: 0.8\"/>\n      </g>\n     </g>\n     <g id=\"text_3\">\n      <!-- 0.4 -->\n      <g style=\"fill: #ffffff\" transform=\"translate(168.246108 287.910437) scale(0.1 -0.1)\">\n       <defs>\n        <path id=\"DejaVuSans-34\" d=\"M 2419 4116 \nL 825 1625 \nL 2419 1625 \nL 2419 4116 \nz\nM 2253 4666 \nL 3047 4666 \nL 3047 1625 \nL 3713 1625 \nL 3713 1100 \nL 3047 1100 \nL 3047 0 \nL 2419 0 \nL 2419 1100 \nL 313 1100 \nL 313 1709 \nL 2253 4666 \nz\n\" transform=\"scale(0.015625)\"/>\n       </defs>\n       <use xlink:href=\"#DejaVuSans-30\"/>\n       <use xlink:href=\"#DejaVuSans-2e\" x=\"63.623047\"/>\n       <use xlink:href=\"#DejaVuSans-34\" x=\"95.410156\"/>\n      </g>\n     </g>\n    </g>\n    <g id=\"xtick_4\">\n     <g id=\"line2d_4\">\n      <g>\n       <use xlink:href=\"#m50ed4221d6\" x=\"241.12858\" y=\"273.312\" style=\"fill: #ffffff; stroke: #ffffff; stroke-width: 0.8\"/>\n      </g>\n     </g>\n     <g id=\"text_4\">\n      <!-- 0.6 -->\n      <g style=\"fill: #ffffff\" transform=\"translate(233.177017 287.910437) scale(0.1 -0.1)\">\n       <defs>\n        <path id=\"DejaVuSans-36\" d=\"M 2113 2584 \nQ 1688 2584 1439 2293 \nQ 1191 2003 1191 1497 \nQ 1191 994 1439 701 \nQ 1688 409 2113 409 \nQ 2538 409 2786 701 \nQ 3034 994 3034 1497 \nQ 3034 2003 2786 2293 \nQ 2538 2584 2113 2584 \nz\nM 3366 4563 \nL 3366 3988 \nQ 3128 4100 2886 4159 \nQ 2644 4219 2406 4219 \nQ 1781 4219 1451 3797 \nQ 1122 3375 1075 2522 \nQ 1259 2794 1537 2939 \nQ 1816 3084 2150 3084 \nQ 2853 3084 3261 2657 \nQ 3669 2231 3669 1497 \nQ 3669 778 3244 343 \nQ 2819 -91 2113 -91 \nQ 1303 -91 875 529 \nQ 447 1150 447 2328 \nQ 447 3434 972 4092 \nQ 1497 4750 2381 4750 \nQ 2619 4750 2861 4703 \nQ 3103 4656 3366 4563 \nz\n\" transform=\"scale(0.015625)\"/>\n       </defs>\n       <use xlink:href=\"#DejaVuSans-30\"/>\n       <use xlink:href=\"#DejaVuSans-2e\" x=\"63.623047\"/>\n       <use xlink:href=\"#DejaVuSans-36\" x=\"95.410156\"/>\n      </g>\n     </g>\n    </g>\n    <g id=\"xtick_5\">\n     <g id=\"line2d_5\">\n      <g>\n       <use xlink:href=\"#m50ed4221d6\" x=\"306.059489\" y=\"273.312\" style=\"fill: #ffffff; stroke: #ffffff; stroke-width: 0.8\"/>\n      </g>\n     </g>\n     <g id=\"text_5\">\n      <!-- 0.8 -->\n      <g style=\"fill: #ffffff\" transform=\"translate(298.107926 287.910437) scale(0.1 -0.1)\">\n       <defs>\n        <path id=\"DejaVuSans-38\" d=\"M 2034 2216 \nQ 1584 2216 1326 1975 \nQ 1069 1734 1069 1313 \nQ 1069 891 1326 650 \nQ 1584 409 2034 409 \nQ 2484 409 2743 651 \nQ 3003 894 3003 1313 \nQ 3003 1734 2745 1975 \nQ 2488 2216 2034 2216 \nz\nM 1403 2484 \nQ 997 2584 770 2862 \nQ 544 3141 544 3541 \nQ 544 4100 942 4425 \nQ 1341 4750 2034 4750 \nQ 2731 4750 3128 4425 \nQ 3525 4100 3525 3541 \nQ 3525 3141 3298 2862 \nQ 3072 2584 2669 2484 \nQ 3125 2378 3379 2068 \nQ 3634 1759 3634 1313 \nQ 3634 634 3220 271 \nQ 2806 -91 2034 -91 \nQ 1263 -91 848 271 \nQ 434 634 434 1313 \nQ 434 1759 690 2068 \nQ 947 2378 1403 2484 \nz\nM 1172 3481 \nQ 1172 3119 1398 2916 \nQ 1625 2713 2034 2713 \nQ 2441 2713 2670 2916 \nQ 2900 3119 2900 3481 \nQ 2900 3844 2670 4047 \nQ 2441 4250 2034 4250 \nQ 1625 4250 1398 4047 \nQ 1172 3844 1172 3481 \nz\n\" transform=\"scale(0.015625)\"/>\n       </defs>\n       <use xlink:href=\"#DejaVuSans-30\"/>\n       <use xlink:href=\"#DejaVuSans-2e\" x=\"63.623047\"/>\n       <use xlink:href=\"#DejaVuSans-38\" x=\"95.410156\"/>\n      </g>\n     </g>\n    </g>\n    <g id=\"xtick_6\">\n     <g id=\"line2d_6\">\n      <g>\n       <use xlink:href=\"#m50ed4221d6\" x=\"370.990398\" y=\"273.312\" style=\"fill: #ffffff; stroke: #ffffff; stroke-width: 0.8\"/>\n      </g>\n     </g>\n     <g id=\"text_6\">\n      <!-- 1.0 -->\n      <g style=\"fill: #ffffff\" transform=\"translate(363.038835 287.910437) scale(0.1 -0.1)\">\n       <defs>\n        <path id=\"DejaVuSans-31\" d=\"M 794 531 \nL 1825 531 \nL 1825 4091 \nL 703 3866 \nL 703 4441 \nL 1819 4666 \nL 2450 4666 \nL 2450 531 \nL 3481 531 \nL 3481 0 \nL 794 0 \nL 794 531 \nz\n\" transform=\"scale(0.015625)\"/>\n       </defs>\n       <use xlink:href=\"#DejaVuSans-31\"/>\n       <use xlink:href=\"#DejaVuSans-2e\" x=\"63.623047\"/>\n       <use xlink:href=\"#DejaVuSans-30\" x=\"95.410156\"/>\n      </g>\n     </g>\n    </g>\n   </g>\n   <g id=\"matplotlib.axis_2\">\n    <g id=\"ytick_1\">\n     <g id=\"line2d_7\">\n      <defs>\n       <path id=\"mccfcecd786\" d=\"M 0 0 \nL -3.5 0 \n\" style=\"stroke: #ffffff; stroke-width: 0.8\"/>\n      </defs>\n      <g>\n       <use xlink:href=\"#mccfcecd786\" x=\"30.103125\" y=\"261.216\" style=\"fill: #ffffff; stroke: #ffffff; stroke-width: 0.8\"/>\n      </g>\n     </g>\n     <g id=\"text_7\">\n      <!-- 0.0 -->\n      <g style=\"fill: #ffffff\" transform=\"translate(7.2 265.015219) scale(0.1 -0.1)\">\n       <use xlink:href=\"#DejaVuSans-30\"/>\n       <use xlink:href=\"#DejaVuSans-2e\" x=\"63.623047\"/>\n       <use xlink:href=\"#DejaVuSans-30\" x=\"95.410156\"/>\n      </g>\n     </g>\n    </g>\n    <g id=\"ytick_2\">\n     <g id=\"line2d_8\">\n      <g>\n       <use xlink:href=\"#mccfcecd786\" x=\"30.103125\" y=\"212.832\" style=\"fill: #ffffff; stroke: #ffffff; stroke-width: 0.8\"/>\n      </g>\n     </g>\n     <g id=\"text_8\">\n      <!-- 0.2 -->\n      <g style=\"fill: #ffffff\" transform=\"translate(7.2 216.631219) scale(0.1 -0.1)\">\n       <use xlink:href=\"#DejaVuSans-30\"/>\n       <use xlink:href=\"#DejaVuSans-2e\" x=\"63.623047\"/>\n       <use xlink:href=\"#DejaVuSans-32\" x=\"95.410156\"/>\n      </g>\n     </g>\n    </g>\n    <g id=\"ytick_3\">\n     <g id=\"line2d_9\">\n      <g>\n       <use xlink:href=\"#mccfcecd786\" x=\"30.103125\" y=\"164.448\" style=\"fill: #ffffff; stroke: #ffffff; stroke-width: 0.8\"/>\n      </g>\n     </g>\n     <g id=\"text_9\">\n      <!-- 0.4 -->\n      <g style=\"fill: #ffffff\" transform=\"translate(7.2 168.247219) scale(0.1 -0.1)\">\n       <use xlink:href=\"#DejaVuSans-30\"/>\n       <use xlink:href=\"#DejaVuSans-2e\" x=\"63.623047\"/>\n       <use xlink:href=\"#DejaVuSans-34\" x=\"95.410156\"/>\n      </g>\n     </g>\n    </g>\n    <g id=\"ytick_4\">\n     <g id=\"line2d_10\">\n      <g>\n       <use xlink:href=\"#mccfcecd786\" x=\"30.103125\" y=\"116.064\" style=\"fill: #ffffff; stroke: #ffffff; stroke-width: 0.8\"/>\n      </g>\n     </g>\n     <g id=\"text_10\">\n      <!-- 0.6 -->\n      <g style=\"fill: #ffffff\" transform=\"translate(7.2 119.863219) scale(0.1 -0.1)\">\n       <use xlink:href=\"#DejaVuSans-30\"/>\n       <use xlink:href=\"#DejaVuSans-2e\" x=\"63.623047\"/>\n       <use xlink:href=\"#DejaVuSans-36\" x=\"95.410156\"/>\n      </g>\n     </g>\n    </g>\n    <g id=\"ytick_5\">\n     <g id=\"line2d_11\">\n      <g>\n       <use xlink:href=\"#mccfcecd786\" x=\"30.103125\" y=\"67.68\" style=\"fill: #ffffff; stroke: #ffffff; stroke-width: 0.8\"/>\n      </g>\n     </g>\n     <g id=\"text_11\">\n      <!-- 0.8 -->\n      <g style=\"fill: #ffffff\" transform=\"translate(7.2 71.479219) scale(0.1 -0.1)\">\n       <use xlink:href=\"#DejaVuSans-30\"/>\n       <use xlink:href=\"#DejaVuSans-2e\" x=\"63.623047\"/>\n       <use xlink:href=\"#DejaVuSans-38\" x=\"95.410156\"/>\n      </g>\n     </g>\n    </g>\n    <g id=\"ytick_6\">\n     <g id=\"line2d_12\">\n      <g>\n       <use xlink:href=\"#mccfcecd786\" x=\"30.103125\" y=\"19.296\" style=\"fill: #ffffff; stroke: #ffffff; stroke-width: 0.8\"/>\n      </g>\n     </g>\n     <g id=\"text_12\">\n      <!-- 1.0 -->\n      <g style=\"fill: #ffffff\" transform=\"translate(7.2 23.095219) scale(0.1 -0.1)\">\n       <use xlink:href=\"#DejaVuSans-31\"/>\n       <use xlink:href=\"#DejaVuSans-2e\" x=\"63.623047\"/>\n       <use xlink:href=\"#DejaVuSans-30\" x=\"95.410156\"/>\n      </g>\n     </g>\n    </g>\n   </g>\n   <g id=\"line2d_13\">\n    <path d=\"M 46.335852 261.216 \nL 47.274612 261.216 \nL 48.056913 259.148308 \nL 48.682753 258.114462 \nL 49.621513 258.114462 \nL 50.090893 257.080615 \nL 51.029653 256.046769 \nL 51.186113 255.012923 \nL 51.342573 255.012923 \nL 51.342573 253.979077 \nL 51.499033 253.979077 \nL 51.811953 252.945231 \nL 52.594253 252.945231 \nL 52.594253 250.877538 \nL 52.750713 250.877538 \nL 53.063633 249.843692 \nL 53.845933 249.843692 \nL 54.158853 248.809846 \nL 56.192834 248.809846 \nL 56.505754 244.674462 \nL 57.131594 244.674462 \nL 57.913894 242.606769 \nL 58.070354 242.606769 \nL 58.696194 241.572923 \nL 59.791414 241.572923 \nL 60.104334 239.505231 \nL 60.260794 239.505231 \nL 60.730174 238.471385 \nL 61.981854 238.471385 \nL 62.294775 237.437538 \nL 64.954595 237.437538 \nL 65.111055 236.403692 \nL 65.111055 235.369846 \nL 67.457955 235.369846 \nL 67.927335 234.336 \nL 68.083795 234.336 \nL 68.396715 233.302154 \nL 70.900076 233.302154 \nL 71.369456 231.234462 \nL 71.525916 231.234462 \nL 71.682376 230.200615 \nL 73.559896 230.200615 \nL 74.185736 229.166769 \nL 74.811576 229.166769 \nL 76.063256 228.132923 \nL 79.505377 228.132923 \nL 79.818297 227.099077 \nL 79.974757 227.099077 \nL 80.131217 226.065231 \nL 81.226437 223.997538 \nL 82.321657 223.997538 \nL 82.791037 222.963692 \nL 84.042718 222.963692 \nL 84.042718 221.929846 \nL 85.294398 221.929846 \nL 85.294398 220.896 \nL 85.450858 220.896 \nL 85.450858 219.862154 \nL 87.015458 219.862154 \nL 87.015458 218.828308 \nL 87.171918 218.828308 \nL 87.641298 217.794462 \nL 87.641298 216.760615 \nL 89.049438 216.760615 \nL 89.049438 215.726769 \nL 90.144658 214.692923 \nL 91.865719 214.692923 \nL 91.865719 211.591385 \nL 92.648019 210.557538 \nL 93.586779 210.557538 \nL 94.838459 208.489846 \nL 95.151379 208.489846 \nL 95.151379 207.456 \nL 99.3758 207.456 \nL 100.1581 206.422154 \nL 101.56624 206.422154 \nL 102.505 203.320615 \nL 106.260041 203.320615 \nL 107.824641 202.286769 \nL 108.763401 202.286769 \nL 108.763401 201.252923 \nL 110.015081 201.252923 \nL 110.171541 200.219077 \nL 110.640921 200.219077 \nL 112.518442 198.151385 \nL 114.865342 198.151385 \nL 115.804102 195.049846 \nL 117.055782 195.049846 \nL 117.055782 194.016 \nL 117.525162 194.016 \nL 117.525162 192.982154 \nL 118.463922 192.982154 \nL 120.184983 190.914462 \nL 120.184983 189.880615 \nL 121.123743 189.880615 \nL 121.123743 188.846769 \nL 126.599844 188.846769 \nL 128.946744 187.812923 \nL 130.354884 187.812923 \nL 130.354884 186.779077 \nL 131.450104 186.779077 \nL 131.450104 185.745231 \nL 132.075944 185.745231 \nL 132.232404 184.711385 \nL 133.171164 184.711385 \nL 137.239125 183.677538 \nL 140.368325 183.677538 \nL 140.368325 182.643692 \nL 141.307086 182.643692 \nL 141.307086 181.609846 \nL 143.184606 181.609846 \nL 146.939646 180.576 \nL 151.476987 180.576 \nL 151.476987 179.542154 \nL 152.259287 179.542154 \nL 152.728667 178.508308 \nL 154.136807 178.508308 \nL 154.136807 177.474462 \nL 154.762647 177.474462 \nL 154.762647 176.440615 \nL 154.919107 176.440615 \nL 154.919107 175.406769 \nL 156.640168 175.406769 \nL 159.456448 174.372923 \nL 163.211489 174.372923 \nL 163.524409 172.305231 \nL 166.497149 172.305231 \nL 166.497149 171.271385 \nL 169.000509 171.271385 \nL 169.000509 170.237538 \nL 169.156969 170.237538 \nL 169.156969 169.203692 \nL 170.40865 169.203692 \nL 174.63307 166.102154 \nL 177.136431 166.102154 \nL 177.136431 165.068308 \nL 177.292891 165.068308 \nL 177.292891 164.034462 \nL 180.735011 164.034462 \nL 180.735011 163.000615 \nL 184.177132 163.000615 \nL 184.177132 161.966769 \nL 185.585272 161.966769 \nL 185.585272 160.932923 \nL 187.775712 160.932923 \nL 187.775712 159.899077 \nL 192.000133 159.899077 \nL 192.000133 158.865231 \nL 198.258534 155.763692 \nL 199.666674 155.763692 \nL 199.666674 154.729846 \nL 201.700654 154.729846 \nL 201.700654 153.696 \nL 203.265254 153.696 \nL 203.265254 152.662154 \nL 203.891094 152.662154 \nL 203.891094 151.628308 \nL 204.516934 151.628308 \nL 204.516934 150.594462 \nL 206.707375 150.594462 \nL 206.707375 149.560615 \nL 208.271975 149.560615 \nL 208.271975 148.526769 \nL 209.054275 148.526769 \nL 209.054275 147.492923 \nL 210.618875 147.492923 \nL 210.618875 146.459077 \nL 211.870555 146.459077 \nL 211.870555 145.425231 \nL 213.591616 145.425231 \nL 213.591616 144.391385 \nL 214.060996 144.391385 \nL 214.060996 143.357538 \nL 216.720816 143.357538 \nL 216.720816 142.323692 \nL 220.006477 142.323692 \nL 220.006477 141.289846 \nL 220.945237 141.289846 \nL 226.890718 138.188308 \nL 227.516558 138.188308 \nL 227.516558 137.154462 \nL 229.863458 137.154462 \nL 229.863458 136.120615 \nL 232.836198 136.120615 \nL 232.836198 135.086769 \nL 233.774959 135.086769 \nL 233.774959 134.052923 \nL 234.244339 134.052923 \nL 234.244339 133.019077 \nL 235.808939 133.019077 \nL 235.808939 131.985231 \nL 236.904159 131.985231 \nL 236.904159 130.951385 \nL 243.94486 130.951385 \nL 243.94486 129.917538 \nL 244.41424 129.917538 \nL 244.41424 128.883692 \nL 247.23052 128.883692 \nL 247.23052 127.849846 \nL 249.108041 127.849846 \nL 249.108041 126.816 \nL 252.237241 126.816 \nL 252.237241 125.782154 \nL 252.393701 125.782154 \nL 252.393701 124.748308 \nL 253.645381 124.748308 \nL 253.801841 123.714462 \nL 253.801841 122.680615 \nL 255.835822 122.680615 \nL 256.461662 121.646769 \nL 258.965022 121.646769 \nL 258.965022 120.612923 \nL 259.747322 120.612923 \nL 259.747322 119.579077 \nL 260.686082 119.579077 \nL 260.686082 118.545231 \nL 262.407143 118.545231 \nL 262.407143 117.511385 \nL 263.189443 117.511385 \nL 263.815283 114.409846 \nL 271.951204 107.172923 \nL 272.889964 107.172923 \nL 272.889964 106.139077 \nL 273.515804 106.139077 \nL 273.515804 105.105231 \nL 274.923944 105.105231 \nL 274.923944 104.071385 \nL 275.862704 104.071385 \nL 275.862704 103.037538 \nL 276.019164 103.037538 \nL 276.019164 102.003692 \nL 277.270845 102.003692 \nL 277.270845 100.969846 \nL 278.522525 100.969846 \nL 278.522525 99.936 \nL 278.835445 99.936 \nL 278.835445 98.902154 \nL 281.964645 98.902154 \nL 281.964645 97.868308 \nL 283.998626 97.868308 \nL 283.998626 96.834462 \nL 285.406766 96.834462 \nL 285.406766 95.800615 \nL 290.413486 95.800615 \nL 290.413486 94.766769 \nL 291.039327 94.766769 \nL 291.039327 93.732923 \nL 292.916847 93.732923 \nL 292.916847 92.699077 \nL 294.481447 92.699077 \nL 294.481447 91.665231 \nL 298.236488 91.665231 \nL 298.236488 90.631385 \nL 299.331708 90.631385 \nL 299.331708 89.597538 \nL 302.460908 89.597538 \nL 302.460908 88.563692 \nL 302.930288 88.563692 \nL 302.930288 87.529846 \nL 303.399668 87.529846 \nL 303.399668 86.496 \nL 304.807808 86.496 \nL 304.807808 85.462154 \nL 305.120729 85.462154 \nL 305.120729 83.394462 \nL 305.433649 83.394462 \nL 305.433649 82.360615 \nL 305.746569 82.360615 \nL 305.746569 81.326769 \nL 306.059489 81.326769 \nL 306.059489 80.292923 \nL 306.215949 80.292923 \nL 306.215949 79.259077 \nL 307.624089 79.259077 \nL 307.624089 78.225231 \nL 312.63081 78.225231 \nL 312.78727 77.191385 \nL 313.25665 77.191385 \nL 313.25665 75.123692 \nL 314.19541 75.123692 \nL 314.19541 74.089846 \nL 314.50833 74.089846 \nL 314.50833 73.056 \nL 315.60355 73.056 \nL 315.60355 72.022154 \nL 316.38585 72.022154 \nL 316.38585 70.988308 \nL 317.01169 70.988308 \nL 317.01169 69.954462 \nL 317.16815 69.954462 \nL 317.16815 68.920615 \nL 318.73275 68.920615 \nL 318.88921 67.886769 \nL 319.20213 67.886769 \nL 319.20213 64.785231 \nL 319.35859 62.717538 \nL 324.208851 62.717538 \nL 324.521771 61.683692 \nL 329.372032 61.683692 \nL 329.372032 60.649846 \nL 330.936632 60.649846 \nL 330.936632 58.582154 \nL 332.031852 58.582154 \nL 332.031852 56.514462 \nL 333.596452 56.514462 \nL 333.909373 55.480615 \nL 335.317513 55.480615 \nL 335.317513 54.446769 \nL 337.507953 54.446769 \nL 337.507953 53.412923 \nL 338.290253 53.412923 \nL 338.290253 52.379077 \nL 338.759633 52.379077 \nL 339.072553 51.345231 \nL 341.106534 51.345231 \nL 341.262994 50.311385 \nL 341.888834 50.311385 \nL 341.888834 49.277538 \nL 342.201754 49.277538 \nL 342.201754 48.243692 \nL 342.984054 48.243692 \nL 344.235734 47.209846 \nL 345.330954 47.209846 \nL 347.677854 44.108308 \nL 348.303695 42.040615 \nL 348.929535 42.040615 \nL 370.990398 19.296 \nL 370.990398 19.296 \n\" clip-path=\"url(#p847800bf7d)\" style=\"fill: none; stroke: #8dd3c7; stroke-width: 3; stroke-linecap: square\"/>\n   </g>\n   <g id=\"patch_3\">\n    <path d=\"M 30.103125 273.312 \nL 30.103125 7.2 \n\" style=\"fill: none; stroke: #ffffff; stroke-width: 0.8; stroke-linejoin: miter; stroke-linecap: square\"/>\n   </g>\n   <g id=\"patch_4\">\n    <path d=\"M 387.223125 273.312 \nL 387.223125 7.2 \n\" style=\"fill: none; stroke: #ffffff; stroke-width: 0.8; stroke-linejoin: miter; stroke-linecap: square\"/>\n   </g>\n   <g id=\"patch_5\">\n    <path d=\"M 30.103125 273.312 \nL 387.223125 273.312 \n\" style=\"fill: none; stroke: #ffffff; stroke-width: 0.8; stroke-linejoin: miter; stroke-linecap: square\"/>\n   </g>\n   <g id=\"patch_6\">\n    <path d=\"M 30.103125 7.2 \nL 387.223125 7.2 \n\" style=\"fill: none; stroke: #ffffff; stroke-width: 0.8; stroke-linejoin: miter; stroke-linecap: square\"/>\n   </g>\n  </g>\n </g>\n <defs>\n  <clipPath id=\"p847800bf7d\">\n   <rect x=\"30.103125\" y=\"7.2\" width=\"357.12\" height=\"266.112\"/>\n  </clipPath>\n </defs>\n</svg>\n",
      "text/plain": [
       "<Figure size 640x480 with 1 Axes>"
      ]
     },
     "metadata": {},
     "output_type": "display_data"
    }
   ],
   "source": [
    "from sklearn.metrics import roc_curve, auc\n",
    "fpr_lr, tpr_lr, _ = roc_curve(y_test[0:len(y_scores)], y_scores)\n",
    "roc_auc_lr = auc(fpr_lr, tpr_lr)\n",
    "\n",
    "plt.figure()\n",
    "# plt.xlim([-0.01, 1.00])\n",
    "# plt.ylim([-0.01, 1.01])\n",
    "plt.plot(fpr_lr, tpr_lr, lw=3, label='LogRegr ROC curve (area = {:0.2f})'.format(roc_auc_lr))\n",
    "# plt.xlabel('False Positive Rate', fontsize=16)\n",
    "# plt.ylabel('True Positive Rate', fontsize=16)\n",
    "# plt.title('ROC curve (1-of-10 digits classifier)', fontsize=16)\n",
    "# plt.legend(loc='lower right', fontsize=13)\n",
    "# # plt.plot([0, 1], [0, 1], color='navy', lw=3, linestyle='--')\n",
    "# plt.axes().set_aspect('equal')\n",
    "plt.show()"
   ]
  },
  {
   "cell_type": "code",
   "execution_count": null,
   "id": "a8d179ff",
   "metadata": {
    "deletable": false,
    "nbgrader": {
     "cell_type": "code",
     "checksum": "aef89dbca058b3768c5e369581c14bbb",
     "grade": false,
     "grade_id": "cell-f8da4477c345bf17",
     "locked": false,
     "schema_version": 3,
     "solution": true,
     "task": false
    }
   },
   "outputs": [],
   "source": [
    "def engagement_model():\n",
    "    from sklearn.model_selection import train_test_split\n",
    "    from sklearn.metrics import accuracy_score, recall_score, precision_score\n",
    "    from sklearn.svm import SVC\n",
    "\n",
    "    rec = None\n",
    "\n",
    "    # YOUR CODE HERE\n",
    "    # import data\n",
    "    df = pd.read_csv('assets/train.csv')\n",
    "    test = pd.read_csv('assets/test.csv')\n",
    "    #defining X and y for results on train test\n",
    "    X = df.iloc[:,:-1]\n",
    "    y = df.iloc[:,-1]\n",
    "\n",
    "\n",
    "    #for this quesiton, I am using RandomForestRegressor for finding out the prediciton values\n",
    "    from sklearn.ensemble import RandomForestClassifier\n",
    "    from sklearn.ensemble import RandomForestRegressor\n",
    "\n",
    "    #Here, I am trying out to find the features importances of each feature and select only top 6 features \n",
    "    clf = RandomForestRegressor(max_depth = 10, n_estimators = 40).fit(X,y)\n",
    "\n",
    "    s = pd.Series(clf.feature_importances_, index = X.columns)\n",
    "    s.sort_values(ascending  = False,inplace = True)\n",
    "\n",
    "    features = list(s.index[:6])\n",
    "    X = X[features]\n",
    "\n",
    "    from sklearn.model_selection import GridSearchCV\n",
    "    from sklearn.metrics import roc_auc_score\n",
    "\n",
    "    #Now, I am splitting the data and using GridSearchCV to to maximize the \n",
    "\n",
    "    X_train, X_test, y_train, y_test = train_test_split(X, y, random_state = 0)\n",
    "\n",
    "    grid_values = {'max_depth':[20], 'n_estimators':[50,100] }\n",
    "\n",
    "    clf = GridSearchCV(RandomForestRegressor(),param_grid = grid_values,scoring = 'roc_auc')\n",
    "\n",
    "    clf.fit(X_train, y_train.values.reshape(-1,1))\n",
    "\n",
    "    #I selected the best parameters from the gridsearcgcv and trainded the Randomforestregressor using those parameters\n",
    "    values = clf.best_params_\n",
    "    test = test[features]\n",
    "    final_clf = RandomForestRegressor(max_depth = values['max_depth'],n_estimators = values['n_estimators'])\n",
    "    final_clf.fit(X, y)\n",
    "    y_scores = final_clf.predict(test)\n",
    "\n",
    "    #finally, I made a series with values of y_predicted and ticket_id as index values\n",
    "    ans = pd.Series(y_scores , index  = test.index.values)\n",
    "    return(ans)\n",
    "    \n",
    "    \n",
    "    \n",
    "    \n",
    "#     raise NotImplementedError()\n",
    "#     return rec"
   ]
  },
  {
   "cell_type": "code",
   "execution_count": null,
   "id": "24b6c9cb",
   "metadata": {
    "deletable": false,
    "editable": false,
    "nbgrader": {
     "cell_type": "code",
     "checksum": "b62f51501dbd542c790e5ed5f1d57449",
     "grade": true,
     "grade_id": "cell-0372cfb70ab9b4de",
     "locked": true,
     "points": 4,
     "schema_version": 3,
     "solution": false,
     "task": false
    }
   },
   "outputs": [],
   "source": [
    "# Autograder tests - sanity checks; no points for passing this cell\n",
    "\n",
    "stu_ans = engagement_model()\n",
    "\n",
    "assert isinstance(stu_ans, pd.Series), \"Your function should return a pd.Series. \"\n",
    "assert len(stu_ans) == 2309, \"Your series is of incorrect length: expected 2309 \"\n",
    "print(stu_ans)"
   ]
  }
 ],
 "metadata": {
  "coursera": {
   "schema_names": [
    "mooc_adswpy_v1_assignment4"
   ]
  },
  "kernelspec": {
   "display_name": "base",
   "language": "python",
   "name": "python3"
  },
  "language_info": {
   "codemirror_mode": {
    "name": "ipython",
    "version": 3
   },
   "file_extension": ".py",
   "mimetype": "text/x-python",
   "name": "python",
   "nbconvert_exporter": "python",
   "pygments_lexer": "ipython3",
   "version": "3.9.13"
  },
  "vscode": {
   "interpreter": {
    "hash": "e5f83254fef5cee5e627279274d62087975c95ea9db16819603596c6b8ad6cff"
   }
  }
 },
 "nbformat": 4,
 "nbformat_minor": 5
}
